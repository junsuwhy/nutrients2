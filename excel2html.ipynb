{
 "cells": [
  {
   "cell_type": "code",
   "execution_count": 2,
   "id": "565e1bb0-e117-4274-9ba8-f78f44b8be3b",
   "metadata": {},
   "outputs": [],
   "source": [
    "import pandas as pd\n",
    "filename = '食品營養成分資料庫2023版(UPDATE1).xlsx'\n",
    "sheetname = '工作表1'\n",
    "\n",
    "db = pd.read_excel(filename,sheet_name=sheetname,skiprows=[0]).dropna(how='all')"
   ]
  },
  {
   "cell_type": "code",
   "execution_count": 4,
   "id": "f074cbfd-e22f-49a9-8cef-94c1053bf8d4",
   "metadata": {},
   "outputs": [],
   "source": [
    "html = db.to_html(index=False,na_rep=\"\")\n",
    "text_file = open(\"ingredients.html\", \"w\",encoding=\"utf-8\") \n",
    "text_file.write(html)\n",
    "text_file.close() "
   ]
  },
  {
   "cell_type": "code",
   "execution_count": null,
   "id": "065ec21d-4936-48c3-a5d3-6b939d5aee7f",
   "metadata": {},
   "outputs": [],
   "source": []
  }
 ],
 "metadata": {
  "kernelspec": {
   "display_name": "Python 3 (ipykernel)",
   "language": "python",
   "name": "python3"
  },
  "language_info": {
   "codemirror_mode": {
    "name": "ipython",
    "version": 3
   },
   "file_extension": ".py",
   "mimetype": "text/x-python",
   "name": "python",
   "nbconvert_exporter": "python",
   "pygments_lexer": "ipython3",
   "version": "3.11.7"
  }
 },
 "nbformat": 4,
 "nbformat_minor": 5
}
